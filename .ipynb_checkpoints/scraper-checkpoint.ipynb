{
 "cells": [
  {
   "cell_type": "code",
   "execution_count": 3,
   "metadata": {},
   "outputs": [
    {
     "name": "stdout",
     "output_type": "stream",
     "text": [
      "Requirement already satisfied: pillow in c:\\users\\manpr\\anaconda3\\lib\\site-packages (8.2.0)\n",
      "Collecting selenium\n",
      "  Using cached selenium-3.141.0-py2.py3-none-any.whl (904 kB)\n",
      "Requirement already satisfied: urllib3 in c:\\users\\manpr\\anaconda3\\lib\\site-packages (from selenium) (1.26.4)\n",
      "Installing collected packages: selenium\n",
      "Successfully installed selenium-3.141.0\n"
     ]
    }
   ],
   "source": [
    "!pip3 install pillow\n",
    "!pip3 install selenium"
   ]
  },
  {
   "cell_type": "code",
   "execution_count": 4,
   "metadata": {},
   "outputs": [],
   "source": [
    "import os\n",
    "import time\n",
    "import io\n",
    "import hashlib\n",
    "import signal\n",
    "import requests\n",
    "\n",
    "from glob import glob\n",
    "from PIL import Image\n",
    "from selenium import webdriver"
   ]
  },
  {
   "cell_type": "code",
   "execution_count": 6,
   "metadata": {},
   "outputs": [],
   "source": [
    "number_of_images = 200\n",
    "GET_IMAGE_TIMEOUT = 2\n",
    "SLEEP_BETWEEN_INTERACTIONS = 0.1\n",
    "SLEEP_BEFORE_MORE = 5\n",
    "IMAGE_QUALITY = 85\n",
    "\n",
    "DRIVER_PATH = '.\\\\ads-image-classifier\\\\chromedriver.exe'        #insert path to chromedriver\n",
    "OUTPUT_PATH = '.\\\\ads-image-classifier\\\\food'                    # insert path, where images should be saved"
   ]
  },
  {
   "cell_type": "code",
   "execution_count": 7,
   "metadata": {},
   "outputs": [],
   "source": [
    "search_terms = [\"grapes\", \"lasagna\", \"tacos\", \"pizza\", \"sushi\", \"salad\"]"
   ]
  },
  {
   "cell_type": "code",
   "execution_count": 8,
   "metadata": {},
   "outputs": [],
   "source": [
    "dirs = glob(OUTPUT_PATH + \"*\")\n",
    "dirs = [dir.split(\"/\")[-1].replace(\"_\", \" \") for dir in dirs]\n",
    "search_terms = [term for term in search_terms if term not in dirs]"
   ]
  },
  {
   "cell_type": "code",
   "execution_count": 10,
   "metadata": {},
   "outputs": [],
   "source": [
    "wd = webdriver.Chrome(executable_path=DRIVER_PATH)\n",
    "wd.get(\"https://google.com\")"
   ]
  },
  {
   "cell_type": "code",
   "execution_count": 11,
   "metadata": {},
   "outputs": [],
   "source": [
    "class timeout:\n",
    "    def __init__(self, seconds=1, error_message=\"Timeout\"):\n",
    "        self.seconds = seconds\n",
    "        self.error_message = error_message\n",
    "\n",
    "    def handle_timeout(self, signum, frame):\n",
    "        raise TimeoutError(self.error_message)\n",
    "\n",
    "    def __enter__(self):\n",
    "        signal.signal(signal.SIGALRM, self.handle_timeout)\n",
    "        signal.alarm(self.seconds)\n",
    "\n",
    "    def __exit__(self, type, value, traceback):\n",
    "        signal.alarm(0)"
   ]
  },
  {
   "cell_type": "code",
   "execution_count": 12,
   "metadata": {},
   "outputs": [],
   "source": [
    "def fetch_image_urls(\n",
    "    query: str,\n",
    "    max_links_to_fetch: int,\n",
    "    wd: webdriver,\n",
    "    sleep_between_interactions: int = 1,\n",
    "):\n",
    "    def scroll_to_end(wd):\n",
    "        wd.execute_script(\"window.scrollTo(0, document.body.scrollHeight);\")\n",
    "        time.sleep(sleep_between_interactions)\n",
    "\n",
    "    # Build the Google Query.\n",
    "    search_url = \"https://www.google.com/search?safe=off&site=&tbm=isch&source=hp&q={q}&oq={q}&gs_l=img\"\n",
    "\n",
    "    # load the page\n",
    "    wd.get(search_url.format(q=query))\n",
    "\n",
    "    # Declared as a set, to prevent duplicates.\n",
    "    image_urls = set()\n",
    "    image_count = 0\n",
    "    results_start = 0\n",
    "    while image_count < max_links_to_fetch:\n",
    "        scroll_to_end(wd)\n",
    "\n",
    "        # Get all image thumbnail results\n",
    "        thumbnail_results = wd.find_elements_by_css_selector(\"img.Q4LuWd\")\n",
    "        number_results = len(thumbnail_results)\n",
    "\n",
    "        print(\n",
    "            f\"Found: {number_results} search results. Extracting links from {results_start}:{number_results}\"\n",
    "        )\n",
    "\n",
    "        # Loop through image thumbnail identified\n",
    "        for img in thumbnail_results[results_start:number_results]:\n",
    "            \n",
    "            # Try to click every thumbnail such that we can get the real image behind it.\n",
    "            try:\n",
    "                img.click()\n",
    "                time.sleep(sleep_between_interactions)\n",
    "            except Exception:\n",
    "                continue\n",
    "\n",
    "            # Extract image urls\n",
    "            actual_images = wd.find_elements_by_css_selector(\"img.n3VNCb\")\n",
    "            for actual_image in actual_images:\n",
    "                if actual_image.get_attribute(\n",
    "                    \"src\"\n",
    "                ) and \"http\" in actual_image.get_attribute(\"src\"):\n",
    "                    image_urls.add(actual_image.get_attribute(\"src\"))\n",
    "\n",
    "            image_count = len(image_urls)\n",
    "\n",
    "            # If the number images found exceeds our `num_of_images`, end the seaerch.\n",
    "            if len(image_urls) >= max_links_to_fetch:\n",
    "                print(f\"Found: {len(image_urls)} image links, done!\")\n",
    "                break\n",
    "        else:\n",
    "            # If we haven't found all the images we want, let's look for more.\n",
    "            print(\"Found:\", len(image_urls), \"image links, looking for more ...\")\n",
    "            time.sleep(SLEEP_BEFORE_MORE)\n",
    "\n",
    "            # Check for button signifying no more images.\n",
    "            not_what_you_want_button = \"\"\n",
    "            try:\n",
    "                not_what_you_want_button = wd.find_element_by_css_selector(\".r0zKGf\")\n",
    "            except:\n",
    "                pass\n",
    "\n",
    "            # If there are no more images return.\n",
    "            if not_what_you_want_button:\n",
    "                print(\"No more images available.\")\n",
    "                return image_urls\n",
    "            \n",
    "            # If there is a \"Load More\" button, click it.\n",
    "            load_more_button = wd.find_element_by_css_selector(\".mye4qd\")\n",
    "            if load_more_button and not not_what_you_want_button:\n",
    "                wd.execute_script(\"document.querySelector('.mye4qd').click();\")\n",
    "            \n",
    "            #break if no more images\n",
    "            if results_start == number_results: \n",
    "                print(\"No more images found\")\n",
    "                return image_urls\n",
    "                \n",
    "\n",
    "        # Move the result startpoint further down.\n",
    "        results_start = len(thumbnail_results)\n",
    "\n",
    "    return image_urls\n",
    "\n",
    "\n",
    "def persist_image(folder_path: str, url: str):\n",
    "#     try:\n",
    "#         print(\"Getting image\")\n",
    "#         # Download the image.  If timeout is exceeded, throw an error.\n",
    "#         with timeout(GET_IMAGE_TIMEOUT):\n",
    "#             image_content = requests.get(url).content\n",
    "\n",
    "#     except Exception as e:\n",
    "#         print(f\"ERROR - Could not download {url} - {e}\")\n",
    "\n",
    "    try:\n",
    "        image_content = requests.get(url).content\n",
    "\n",
    "    except Exception as e:\n",
    "        print(f\"ERROR - Could not download {url} - {e}\")\n",
    "      \n",
    "    try:\n",
    "        # Convert the image into a bit stream, then save it.\n",
    "        image_file = io.BytesIO(image_content)\n",
    "        image = Image.open(image_file).convert(\"RGB\")\n",
    "        # Create a unique filepath from the contents of the image.\n",
    "        file_path = os.path.join(\n",
    "            folder_path, hashlib.sha1(image_content).hexdigest()[:10] + \".jpg\"\n",
    "        )\n",
    "        with open(file_path, \"wb\") as f:\n",
    "            image.save(f, \"JPEG\", quality=IMAGE_QUALITY)\n",
    "#         print(f\"SUCCESS - saved {url} - as {file_path}\")\n",
    "    except Exception as e:\n",
    "        print(f\"ERROR - Could not save {url} - {e}\")\n",
    "\n",
    "def search_and_download(search_term: str, target_path=\"./images\", number_images=5):\n",
    "    # Create a folder name.\n",
    "    target_folder = os.path.join(target_path, \"_\".join(search_term.lower().split(\" \")))\n",
    "\n",
    "    # Create image folder if needed.\n",
    "    if not os.path.exists(target_folder):\n",
    "        os.makedirs(target_folder)\n",
    "\n",
    "    # Open Chrome\n",
    "    with webdriver.Chrome() as wd:\n",
    "        # Search for images URLs.\n",
    "        res = fetch_image_urls(\n",
    "            search_term,\n",
    "            number_images,\n",
    "            wd=wd,\n",
    "            sleep_between_interactions=SLEEP_BETWEEN_INTERACTIONS,\n",
    "        )\n",
    "\n",
    "        # Download the images.\n",
    "        if res is not None:\n",
    "            for elem in res:\n",
    "                persist_image(target_folder, elem)\n",
    "        else:\n",
    "            print(f\"Failed to return links for term: {search_term}\")\n"
   ]
  },
  {
   "cell_type": "code",
   "execution_count": 13,
   "metadata": {},
   "outputs": [
    {
     "name": "stdout",
     "output_type": "stream",
     "text": [
      "Searching images for grapes\n",
      "Found: 100 search results. Extracting links from 0:100\n",
      "Found: 107 image links, looking for more ...\n",
      "Found: 212 search results. Extracting links from 100:212\n",
      "Found: 200 image links, done!\n",
      "ERROR - Could not save https://www.veg2you.net/wp-content/uploads/Seedless-Grape.jpg - cannot identify image file <_io.BytesIO object at 0x0000022EC32249F0>\n",
      "ERROR - Could not save https://www.collinsdictionary.com/images/full/grape_229112122.jpg - cannot identify image file <_io.BytesIO object at 0x0000022EC38DDB80>\n",
      "Done saving images for grapes\n",
      "Searching images for lasagna\n",
      "Found: 100 search results. Extracting links from 0:100\n",
      "Found: 130 image links, looking for more ...\n",
      "Found: 212 search results. Extracting links from 100:212\n",
      "Found: 200 image links, done!\n",
      "ERROR - Could not save https://cdn3.tmbi.com/toh/GoogleImages/Traditional-Lasagna_EXPS_THND16_12003_C07_26_6b.jpg - cannot identify image file <_io.BytesIO object at 0x0000022EC49C87C0>\n"
     ]
    },
    {
     "name": "stderr",
     "output_type": "stream",
     "text": [
      "C:\\Users\\manpr\\anaconda3\\lib\\site-packages\\PIL\\Image.py:2966: UserWarning: image file could not be identified because WEBP support not installed\n",
      "  warnings.warn(message)\n"
     ]
    },
    {
     "name": "stdout",
     "output_type": "stream",
     "text": [
      "ERROR - Could not save https://www.afamilyfeast.com/wp-content/uploads/2013/12/lasagna1.jpg - cannot identify image file <_io.BytesIO object at 0x0000022EC387EEF0>\n",
      "Done saving images for lasagna\n",
      "Searching images for tacos\n",
      "Found: 100 search results. Extracting links from 0:100\n",
      "Found: 137 image links, looking for more ...\n",
      "Found: 212 search results. Extracting links from 100:212\n",
      "Found: 200 image links, done!\n",
      "Done saving images for tacos\n",
      "Searching images for pizza\n",
      "Found: 100 search results. Extracting links from 0:100\n",
      "Found: 128 image links, looking for more ...\n",
      "Found: 212 search results. Extracting links from 100:212\n",
      "Found: 200 image links, done!\n"
     ]
    },
    {
     "name": "stderr",
     "output_type": "stream",
     "text": [
      "C:\\Users\\manpr\\anaconda3\\lib\\site-packages\\PIL\\Image.py:962: UserWarning: Palette images with Transparency expressed in bytes should be converted to RGBA images\n",
      "  warnings.warn(\n"
     ]
    },
    {
     "name": "stdout",
     "output_type": "stream",
     "text": [
      "ERROR - Could not save https://www.lieferando.de/foodwiki/uploads/sites/8/2018/01/pizza-3.jpg - cannot identify image file <_io.BytesIO object at 0x0000022EC38DD130>\n",
      "ERROR - Could not save https://rezept-db.womenshealth.de/image/rezept-db/fullWidthMobile/sh_Marzia-Giacobbe_172628543_Pizza-Capricciosa_Belag_Rezept_800x462.jpg.webp - cannot identify image file <_io.BytesIO object at 0x0000022EC387EEF0>\n",
      "ERROR - Could not save https://static.wixstatic.com/media/b4dd99_cad6e95fb459427eb398b38d68fde76f~mv2_d_2048_1292_s_2.jpg/v1/fill/w_640,h_722,al_b,q_85,usm_0.66_1.00_0.01/b4dd99_cad6e95fb459427eb398b38d68fde76f~mv2_d_2048_1292_s_2.webp - cannot identify image file <_io.BytesIO object at 0x0000022EC49D37C0>\n",
      "ERROR - Could not save https://static.wixstatic.com/media/77991f_021b94a2072d4d66a2c0397417f72cacf002.jpg/v1/fill/w_320,h_244,al_c,q_80,usm_0.33_1.00_0.00/77991f_021b94a2072d4d66a2c0397417f72cacf002.webp - cannot identify image file <_io.BytesIO object at 0x0000022EC387EEF0>\n",
      "Done saving images for pizza\n",
      "Searching images for sushi\n",
      "Found: 100 search results. Extracting links from 0:100\n",
      "Found: 145 image links, looking for more ...\n",
      "Found: 212 search results. Extracting links from 100:212\n",
      "Found: 200 image links, done!\n",
      "ERROR - Could not save https://www.lieferando.de/foodwiki/uploads/sites/8/2017/06/sushi-4-1080x960.jpg - cannot identify image file <_io.BytesIO object at 0x0000022EC3950EF0>\n",
      "Done saving images for sushi\n",
      "Searching images for salad\n",
      "Found: 100 search results. Extracting links from 0:100\n",
      "Found: 141 image links, looking for more ...\n",
      "Found: 212 search results. Extracting links from 100:212\n",
      "Found: 201 image links, done!\n",
      "ERROR - Could not save https://die-frau-am-grill.de/wp-content/uploads/caesar-salad.jpg - cannot identify image file <_io.BytesIO object at 0x0000022EC49C8E00>\n",
      "ERROR - Could not save https://www.hellofreshgo.de/wp-content/uploads/2020/06/HF200227_HFGO_BF_Halopack_Salad_Bowl_Rote_Bete_Hirtenka%CC%88se_-Kopie.png - cannot identify image file <_io.BytesIO object at 0x0000022EC387EEF0>\n",
      "Done saving images for salad\n",
      "Done\n"
     ]
    }
   ],
   "source": [
    "# Loop through all the search terms.\n",
    "for term in search_terms:\n",
    "    print(\"Searching images for \" + term)\n",
    "    search_and_download(term, output_path, number_of_images)\n",
    "    print(\"Done saving images for \" + term)\n",
    "\n",
    "print(\"Done\")"
   ]
  },
  {
   "cell_type": "code",
   "execution_count": null,
   "metadata": {},
   "outputs": [],
   "source": []
  }
 ],
 "metadata": {
  "kernelspec": {
   "display_name": "Python 3",
   "language": "python",
   "name": "python3"
  },
  "language_info": {
   "codemirror_mode": {
    "name": "ipython",
    "version": 3
   },
   "file_extension": ".py",
   "mimetype": "text/x-python",
   "name": "python",
   "nbconvert_exporter": "python",
   "pygments_lexer": "ipython3",
   "version": "3.8.8"
  }
 },
 "nbformat": 4,
 "nbformat_minor": 4
}
